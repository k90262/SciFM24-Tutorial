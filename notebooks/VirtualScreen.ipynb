{
  "nbformat": 4,
  "nbformat_minor": 0,
  "metadata": {
    "colab": {
      "provenance": [],
      "authorship_tag": "ABX9TyP31S4qfXLiehKPRcYP5xbs",
      "include_colab_link": true
    },
    "kernelspec": {
      "name": "python3",
      "display_name": "Python 3"
    },
    "language_info": {
      "name": "python"
    }
  },
  "cells": [
    {
      "cell_type": "markdown",
      "metadata": {
        "id": "view-in-github",
        "colab_type": "text"
      },
      "source": [
        "<a href=\"https://colab.research.google.com/github/ramanathanlab/SciFM24-Tutorial/blob/main/notebooks/VirtualScreen.ipynb\" target=\"_parent\"><img src=\"https://colab.research.google.com/assets/colab-badge.svg\" alt=\"Open In Colab\"/></a>"
      ]
    },
    {
      "cell_type": "markdown",
      "source": [
        "# Predicting binding affinity using Transformers\n",
        "\n",
        "Identification of compounds that bind to a target with high affinity constitutes the first step of a drug discovery pipeline.\n",
        "To streamline this process, highly-scalable computational screening methods are needed to screen chemical space to identify promising candidates.\n",
        "\n",
        "Here, we demonstrate Simple SMILES Transformer (SST), to approximate the computationally-intensive molecular docking process using an encoder-only Transformer architecture."
      ],
      "metadata": {
        "id": "hhcTq_nD5Of1"
      }
    },
    {
      "cell_type": "markdown",
      "source": [
        "## Installing modules and dataloading\n",
        "\n",
        "Here, we are going to install pandas, tensorflow, transformers, and the SmilesPE tokenizer using pip.\n",
        "\n",
        "We are also going to git clone a repo with a few additional functions for loading model architecture and tokenizer."
      ],
      "metadata": {
        "id": "ti5uZ9MI1JNr"
      }
    },
    {
      "cell_type": "code",
      "execution_count": null,
      "metadata": {
        "id": "EM3DQBjoG6bw"
      },
      "outputs": [],
      "source": [
        "!pip install pandas\n",
        "!pip install tensorflow==2.12.0\n",
        "!pip install transformers\n",
        "!pip install SmilesPE"
      ]
    },
    {
      "cell_type": "code",
      "source": [
        "! git clone https://github.com/architvasan/VirtualScreenTransformers.git"
      ],
      "metadata": {
        "id": "nGTz5xS3sAOc",
        "outputId": "842ad09f-c58e-4e87-c127-6878de9ddd17",
        "colab": {
          "base_uri": "https://localhost:8080/"
        }
      },
      "execution_count": null,
      "outputs": [
        {
          "output_type": "stream",
          "name": "stdout",
          "text": [
            "Cloning into 'VirtualScreenTransformers'...\n",
            "remote: Enumerating objects: 32, done.\u001b[K\n",
            "remote: Counting objects:  14% (1/7)\u001b[K\rremote: Counting objects:  28% (2/7)\u001b[K\rremote: Counting objects:  42% (3/7)\u001b[K\rremote: Counting objects:  57% (4/7)\u001b[K\rremote: Counting objects:  71% (5/7)\u001b[K\rremote: Counting objects:  85% (6/7)\u001b[K\rremote: Counting objects: 100% (7/7)\u001b[K\rremote: Counting objects: 100% (7/7), done.\u001b[K\n",
            "remote: Compressing objects: 100% (5/5), done.\u001b[K\n",
            "remote: Total 32 (delta 2), reused 6 (delta 2), pack-reused 25\u001b[K\n",
            "Receiving objects: 100% (32/32), 110.26 MiB | 29.63 MiB/s, done.\n",
            "Resolving deltas: 100% (8/8), done.\n"
          ]
        }
      ]
    },
    {
      "cell_type": "markdown",
      "source": [
        "## Importing modules"
      ],
      "metadata": {
        "id": "5AN49aMe3eB0"
      }
    },
    {
      "cell_type": "code",
      "source": [
        "import tensorflow as tf\n",
        "from tensorflow import keras\n",
        "from tensorflow.keras import backend as K\n",
        "from tensorflow.keras import layers\n",
        "from tensorflow.keras.callbacks import (\n",
        "    CSVLogger,\n",
        "    EarlyStopping,\n",
        "    ModelCheckpoint,\n",
        "    ReduceLROnPlateau,\n",
        ")\n",
        "from tensorflow.keras.optimizers import Adam\n",
        "from tensorflow.keras.preprocessing import sequence, text\n",
        "from tensorflow.python.client import device_lib\n",
        "import json\n",
        "from VirtualScreenTransformers.smiles_pair_encoders_functions import *\n",
        "from VirtualScreenTransformers.smiles_regress_transformer_funcs import *\n",
        "import time"
      ],
      "metadata": {
        "id": "rPvAO_VVJ6YM"
      },
      "execution_count": 44,
      "outputs": []
    },
    {
      "cell_type": "markdown",
      "source": [
        "## Loading model into memory\n",
        "\n",
        "Model is derived from BERT, an encoder-only Transformer.\n",
        "\n",
        "We load in pretrained model weights, which were pretrained with respect to the 3CLPro COVID receptor"
      ],
      "metadata": {
        "id": "n0SA66eh3mgW"
      }
    },
    {
      "cell_type": "code",
      "source": [
        "with open('VirtualScreenTransformers/config.json') as f:\n",
        "       params = json.load(f)"
      ],
      "metadata": {
        "id": "Y_EZ7OVNKEEs"
      },
      "execution_count": 45,
      "outputs": []
    },
    {
      "cell_type": "code",
      "source": [
        "model = ModelArchitecture(params).call()\n",
        "model.load_weights(f'VirtualScreenTransformers/model.weights.h5')"
      ],
      "metadata": {
        "id": "FotWqmgHvfAa",
        "outputId": "ab50c8ba-31f9-4c0a-ada5-86b0134ca1d9",
        "colab": {
          "base_uri": "https://localhost:8080/"
        }
      },
      "execution_count": 46,
      "outputs": [
        {
          "output_type": "stream",
          "name": "stdout",
          "text": [
            "Model: \"model_1\"\n",
            "__________________________________________________________________________________________________\n",
            " Layer (type)                   Output Shape         Param #     Connected to                     \n",
            "==================================================================================================\n",
            " input_2 (InputLayer)           [(None, 45)]         0           []                               \n",
            "                                                                                                  \n",
            " token_and_position_embedding_1  (None, 45, 128)     406656      ['input_2[0][0]']                \n",
            "  (TokenAndPositionEmbedding)                                                                     \n",
            "                                                                                                  \n",
            " transformer_block_1 (Transform  (None, 45, 128)     1417984     ['token_and_position_embedding_1[\n",
            " erBlock)                                                        0][0]',                          \n",
            "                                                                  'transformer_block_1[0][0]',    \n",
            "                                                                  'transformer_block_1[1][0]',    \n",
            "                                                                  'transformer_block_1[2][0]',    \n",
            "                                                                  'transformer_block_1[3][0]']    \n",
            "                                                                                                  \n",
            " reshape_1 (Reshape)            (None, 1, 5760)      0           ['transformer_block_1[4][0]']    \n",
            "                                                                                                  \n",
            " dropout_9 (Dropout)            (None, 1, 5760)      0           ['reshape_1[0][0]']              \n",
            "                                                                                                  \n",
            " dense_9 (Dense)                (None, 1, 1024)      5899264     ['dropout_9[0][0]']              \n",
            "                                                                                                  \n",
            " dropout_10 (Dropout)           (None, 1, 1024)      0           ['dense_9[0][0]']                \n",
            "                                                                                                  \n",
            " dense_10 (Dense)               (None, 1, 256)       262400      ['dropout_10[0][0]']             \n",
            "                                                                                                  \n",
            " dropout_11 (Dropout)           (None, 1, 256)       0           ['dense_10[0][0]']               \n",
            "                                                                                                  \n",
            " dense_11 (Dense)               (None, 1, 64)        16448       ['dropout_11[0][0]']             \n",
            "                                                                                                  \n",
            " dropout_12 (Dropout)           (None, 1, 64)        0           ['dense_11[0][0]']               \n",
            "                                                                                                  \n",
            " dense_12 (Dense)               (None, 1, 16)        1040        ['dropout_12[0][0]']             \n",
            "                                                                                                  \n",
            " dropout_13 (Dropout)           (None, 1, 16)        0           ['dense_12[0][0]']               \n",
            "                                                                                                  \n",
            " dense_13 (Dense)               (None, 1, 1)         17          ['dropout_13[0][0]']             \n",
            "                                                                                                  \n",
            "==================================================================================================\n",
            "Total params: 8,003,809\n",
            "Trainable params: 8,003,809\n",
            "Non-trainable params: 0\n",
            "__________________________________________________________________________________________________\n"
          ]
        }
      ]
    },
    {
      "cell_type": "markdown",
      "source": [
        "## Tokenizer settings\n",
        "\n",
        "Here, we set the vocab and spe file for the SMILES_SPE_Tokenizer.\n",
        "\n",
        "This tokenizer implements the popular byte-pair encoder tokenizer for SMILES strings to learn key chemical motifs.\n",
        "\n",
        "We create a preprocess function allowing us to load data into this tokenizer.\n",
        "\n",
        "Refer to: \\\n",
        " **Li, X. and Fourches, D., 2021. SMILES pair encoding: a data-driven substructure tokenization algorithm for deep learning. Journal of chemical information and modeling, 61(4), pp.1560-1569.**"
      ],
      "metadata": {
        "id": "z4MC6Dnq37GF"
      }
    },
    {
      "cell_type": "code",
      "source": [
        "vocab_file = 'VirtualScreenTransformers/vocab_spe.txt'\n",
        "spe_file = 'VirtualScreenTransformers/spe.txt'\n",
        "tokenizer = SMILES_SPE_Tokenizer(vocab_file = vocab_file, spe_file = spe_file)\n",
        "maxlen = 45"
      ],
      "metadata": {
        "id": "wm7dZyarR2Ru"
      },
      "execution_count": 47,
      "outputs": []
    },
    {
      "cell_type": "code",
      "source": [
        "from tqdm import tqdm\n",
        "def preprocess(data, tokenizer, maxlen):\n",
        "\n",
        "    tokenized_data = np.array([list(pad(tokenizer(smi)['input_ids'], maxlen, 0)) for smi in tqdm(data)])\n",
        "\n",
        "    return tokenized_data"
      ],
      "metadata": {
        "id": "6C7CLxrvSYv8"
      },
      "execution_count": 48,
      "outputs": []
    },
    {
      "cell_type": "markdown",
      "source": [
        "## Inference on a test SMILES dataset\n",
        "\n",
        "Now, we show how model inference is performed on a test SMILES dataset.\n",
        "\n",
        "Data is:\n",
        "\n",
        "1. Loaded\n",
        "2. Tokenized\n",
        "3. Fed into the model to return the predicted docking score"
      ],
      "metadata": {
        "id": "wwldot_L45VL"
      }
    },
    {
      "cell_type": "code",
      "source": [
        "data_smiles = pd.read_csv('VirtualScreenTransformers/test_smiles.smi')"
      ],
      "metadata": {
        "id": "wwgSG3INS4ZA"
      },
      "execution_count": 49,
      "outputs": []
    },
    {
      "cell_type": "code",
      "source": [
        "data_smiles"
      ],
      "metadata": {
        "id": "hM1QHhAZzE4V",
        "outputId": "93e5ccc6-ea3c-43ae-a7a3-31b332889051",
        "colab": {
          "base_uri": "https://localhost:8080/",
          "height": 423
        }
      },
      "execution_count": 50,
      "outputs": [
        {
          "output_type": "execute_result",
          "data": {
            "text/plain": [
              "                                               Smiles\n",
              "0   Cc1c(snn1)C(=O)N2CCC[C@@H](C2)C(=O)c3cnn(c3N)c...\n",
              "1   Cc1c(cccc1[N+](=O)[O-])C(=O)NC(=S)Nc2ccc(cc2)N...\n",
              "2   Cc1c(scn1)C[NH+]2CCN(CC2)c3c4[nH+]cc(n4ccn3)c5...\n",
              "3                  C[C@@H](CN(C)C(=O)C1CCOCC1)C(=O)OC\n",
              "4                      Cc1c(sc(n1)NC(=O)c2c(noc2C)C)C\n",
              "..                                                ...\n",
              "58  CCOc1cc(ccc1OCC(=O)NC2CCCCC2)C[NH2+]CCC[NH+]3C...\n",
              "59  COCCC1(CCN(CC1)S(=O)(=O)c2cccnc2)c3nc(on3)c4cc...\n",
              "60            Cc1cc(nn1C)C(=O)Nc2nc-3c(s2)COc4c3cccc4\n",
              "61          COc1ccc(cc1C(=O)Nc2nc3cc(c(cc3s2)OC)Cl)Cl\n",
              "62  C[C@@H](c1ccc(cc1)C(C)(C)C)NC(=O)c2ccc(cc2)[N+...\n",
              "\n",
              "[63 rows x 1 columns]"
            ],
            "text/html": [
              "\n",
              "  <div id=\"df-e2a1c6db-3573-4fe0-bb17-c30ac093ad5a\" class=\"colab-df-container\">\n",
              "    <div>\n",
              "<style scoped>\n",
              "    .dataframe tbody tr th:only-of-type {\n",
              "        vertical-align: middle;\n",
              "    }\n",
              "\n",
              "    .dataframe tbody tr th {\n",
              "        vertical-align: top;\n",
              "    }\n",
              "\n",
              "    .dataframe thead th {\n",
              "        text-align: right;\n",
              "    }\n",
              "</style>\n",
              "<table border=\"1\" class=\"dataframe\">\n",
              "  <thead>\n",
              "    <tr style=\"text-align: right;\">\n",
              "      <th></th>\n",
              "      <th>Smiles</th>\n",
              "    </tr>\n",
              "  </thead>\n",
              "  <tbody>\n",
              "    <tr>\n",
              "      <th>0</th>\n",
              "      <td>Cc1c(snn1)C(=O)N2CCC[C@@H](C2)C(=O)c3cnn(c3N)c...</td>\n",
              "    </tr>\n",
              "    <tr>\n",
              "      <th>1</th>\n",
              "      <td>Cc1c(cccc1[N+](=O)[O-])C(=O)NC(=S)Nc2ccc(cc2)N...</td>\n",
              "    </tr>\n",
              "    <tr>\n",
              "      <th>2</th>\n",
              "      <td>Cc1c(scn1)C[NH+]2CCN(CC2)c3c4[nH+]cc(n4ccn3)c5...</td>\n",
              "    </tr>\n",
              "    <tr>\n",
              "      <th>3</th>\n",
              "      <td>C[C@@H](CN(C)C(=O)C1CCOCC1)C(=O)OC</td>\n",
              "    </tr>\n",
              "    <tr>\n",
              "      <th>4</th>\n",
              "      <td>Cc1c(sc(n1)NC(=O)c2c(noc2C)C)C</td>\n",
              "    </tr>\n",
              "    <tr>\n",
              "      <th>...</th>\n",
              "      <td>...</td>\n",
              "    </tr>\n",
              "    <tr>\n",
              "      <th>58</th>\n",
              "      <td>CCOc1cc(ccc1OCC(=O)NC2CCCCC2)C[NH2+]CCC[NH+]3C...</td>\n",
              "    </tr>\n",
              "    <tr>\n",
              "      <th>59</th>\n",
              "      <td>COCCC1(CCN(CC1)S(=O)(=O)c2cccnc2)c3nc(on3)c4cc...</td>\n",
              "    </tr>\n",
              "    <tr>\n",
              "      <th>60</th>\n",
              "      <td>Cc1cc(nn1C)C(=O)Nc2nc-3c(s2)COc4c3cccc4</td>\n",
              "    </tr>\n",
              "    <tr>\n",
              "      <th>61</th>\n",
              "      <td>COc1ccc(cc1C(=O)Nc2nc3cc(c(cc3s2)OC)Cl)Cl</td>\n",
              "    </tr>\n",
              "    <tr>\n",
              "      <th>62</th>\n",
              "      <td>C[C@@H](c1ccc(cc1)C(C)(C)C)NC(=O)c2ccc(cc2)[N+...</td>\n",
              "    </tr>\n",
              "  </tbody>\n",
              "</table>\n",
              "<p>63 rows × 1 columns</p>\n",
              "</div>\n",
              "    <div class=\"colab-df-buttons\">\n",
              "\n",
              "  <div class=\"colab-df-container\">\n",
              "    <button class=\"colab-df-convert\" onclick=\"convertToInteractive('df-e2a1c6db-3573-4fe0-bb17-c30ac093ad5a')\"\n",
              "            title=\"Convert this dataframe to an interactive table.\"\n",
              "            style=\"display:none;\">\n",
              "\n",
              "  <svg xmlns=\"http://www.w3.org/2000/svg\" height=\"24px\" viewBox=\"0 -960 960 960\">\n",
              "    <path d=\"M120-120v-720h720v720H120Zm60-500h600v-160H180v160Zm220 220h160v-160H400v160Zm0 220h160v-160H400v160ZM180-400h160v-160H180v160Zm440 0h160v-160H620v160ZM180-180h160v-160H180v160Zm440 0h160v-160H620v160Z\"/>\n",
              "  </svg>\n",
              "    </button>\n",
              "\n",
              "  <style>\n",
              "    .colab-df-container {\n",
              "      display:flex;\n",
              "      gap: 12px;\n",
              "    }\n",
              "\n",
              "    .colab-df-convert {\n",
              "      background-color: #E8F0FE;\n",
              "      border: none;\n",
              "      border-radius: 50%;\n",
              "      cursor: pointer;\n",
              "      display: none;\n",
              "      fill: #1967D2;\n",
              "      height: 32px;\n",
              "      padding: 0 0 0 0;\n",
              "      width: 32px;\n",
              "    }\n",
              "\n",
              "    .colab-df-convert:hover {\n",
              "      background-color: #E2EBFA;\n",
              "      box-shadow: 0px 1px 2px rgba(60, 64, 67, 0.3), 0px 1px 3px 1px rgba(60, 64, 67, 0.15);\n",
              "      fill: #174EA6;\n",
              "    }\n",
              "\n",
              "    .colab-df-buttons div {\n",
              "      margin-bottom: 4px;\n",
              "    }\n",
              "\n",
              "    [theme=dark] .colab-df-convert {\n",
              "      background-color: #3B4455;\n",
              "      fill: #D2E3FC;\n",
              "    }\n",
              "\n",
              "    [theme=dark] .colab-df-convert:hover {\n",
              "      background-color: #434B5C;\n",
              "      box-shadow: 0px 1px 3px 1px rgba(0, 0, 0, 0.15);\n",
              "      filter: drop-shadow(0px 1px 2px rgba(0, 0, 0, 0.3));\n",
              "      fill: #FFFFFF;\n",
              "    }\n",
              "  </style>\n",
              "\n",
              "    <script>\n",
              "      const buttonEl =\n",
              "        document.querySelector('#df-e2a1c6db-3573-4fe0-bb17-c30ac093ad5a button.colab-df-convert');\n",
              "      buttonEl.style.display =\n",
              "        google.colab.kernel.accessAllowed ? 'block' : 'none';\n",
              "\n",
              "      async function convertToInteractive(key) {\n",
              "        const element = document.querySelector('#df-e2a1c6db-3573-4fe0-bb17-c30ac093ad5a');\n",
              "        const dataTable =\n",
              "          await google.colab.kernel.invokeFunction('convertToInteractive',\n",
              "                                                    [key], {});\n",
              "        if (!dataTable) return;\n",
              "\n",
              "        const docLinkHtml = 'Like what you see? Visit the ' +\n",
              "          '<a target=\"_blank\" href=https://colab.research.google.com/notebooks/data_table.ipynb>data table notebook</a>'\n",
              "          + ' to learn more about interactive tables.';\n",
              "        element.innerHTML = '';\n",
              "        dataTable['output_type'] = 'display_data';\n",
              "        await google.colab.output.renderOutput(dataTable, element);\n",
              "        const docLink = document.createElement('div');\n",
              "        docLink.innerHTML = docLinkHtml;\n",
              "        element.appendChild(docLink);\n",
              "      }\n",
              "    </script>\n",
              "  </div>\n",
              "\n",
              "\n",
              "<div id=\"df-43495d69-1a4a-433a-9481-6fd9a732bbdc\">\n",
              "  <button class=\"colab-df-quickchart\" onclick=\"quickchart('df-43495d69-1a4a-433a-9481-6fd9a732bbdc')\"\n",
              "            title=\"Suggest charts\"\n",
              "            style=\"display:none;\">\n",
              "\n",
              "<svg xmlns=\"http://www.w3.org/2000/svg\" height=\"24px\"viewBox=\"0 0 24 24\"\n",
              "     width=\"24px\">\n",
              "    <g>\n",
              "        <path d=\"M19 3H5c-1.1 0-2 .9-2 2v14c0 1.1.9 2 2 2h14c1.1 0 2-.9 2-2V5c0-1.1-.9-2-2-2zM9 17H7v-7h2v7zm4 0h-2V7h2v10zm4 0h-2v-4h2v4z\"/>\n",
              "    </g>\n",
              "</svg>\n",
              "  </button>\n",
              "\n",
              "<style>\n",
              "  .colab-df-quickchart {\n",
              "      --bg-color: #E8F0FE;\n",
              "      --fill-color: #1967D2;\n",
              "      --hover-bg-color: #E2EBFA;\n",
              "      --hover-fill-color: #174EA6;\n",
              "      --disabled-fill-color: #AAA;\n",
              "      --disabled-bg-color: #DDD;\n",
              "  }\n",
              "\n",
              "  [theme=dark] .colab-df-quickchart {\n",
              "      --bg-color: #3B4455;\n",
              "      --fill-color: #D2E3FC;\n",
              "      --hover-bg-color: #434B5C;\n",
              "      --hover-fill-color: #FFFFFF;\n",
              "      --disabled-bg-color: #3B4455;\n",
              "      --disabled-fill-color: #666;\n",
              "  }\n",
              "\n",
              "  .colab-df-quickchart {\n",
              "    background-color: var(--bg-color);\n",
              "    border: none;\n",
              "    border-radius: 50%;\n",
              "    cursor: pointer;\n",
              "    display: none;\n",
              "    fill: var(--fill-color);\n",
              "    height: 32px;\n",
              "    padding: 0;\n",
              "    width: 32px;\n",
              "  }\n",
              "\n",
              "  .colab-df-quickchart:hover {\n",
              "    background-color: var(--hover-bg-color);\n",
              "    box-shadow: 0 1px 2px rgba(60, 64, 67, 0.3), 0 1px 3px 1px rgba(60, 64, 67, 0.15);\n",
              "    fill: var(--button-hover-fill-color);\n",
              "  }\n",
              "\n",
              "  .colab-df-quickchart-complete:disabled,\n",
              "  .colab-df-quickchart-complete:disabled:hover {\n",
              "    background-color: var(--disabled-bg-color);\n",
              "    fill: var(--disabled-fill-color);\n",
              "    box-shadow: none;\n",
              "  }\n",
              "\n",
              "  .colab-df-spinner {\n",
              "    border: 2px solid var(--fill-color);\n",
              "    border-color: transparent;\n",
              "    border-bottom-color: var(--fill-color);\n",
              "    animation:\n",
              "      spin 1s steps(1) infinite;\n",
              "  }\n",
              "\n",
              "  @keyframes spin {\n",
              "    0% {\n",
              "      border-color: transparent;\n",
              "      border-bottom-color: var(--fill-color);\n",
              "      border-left-color: var(--fill-color);\n",
              "    }\n",
              "    20% {\n",
              "      border-color: transparent;\n",
              "      border-left-color: var(--fill-color);\n",
              "      border-top-color: var(--fill-color);\n",
              "    }\n",
              "    30% {\n",
              "      border-color: transparent;\n",
              "      border-left-color: var(--fill-color);\n",
              "      border-top-color: var(--fill-color);\n",
              "      border-right-color: var(--fill-color);\n",
              "    }\n",
              "    40% {\n",
              "      border-color: transparent;\n",
              "      border-right-color: var(--fill-color);\n",
              "      border-top-color: var(--fill-color);\n",
              "    }\n",
              "    60% {\n",
              "      border-color: transparent;\n",
              "      border-right-color: var(--fill-color);\n",
              "    }\n",
              "    80% {\n",
              "      border-color: transparent;\n",
              "      border-right-color: var(--fill-color);\n",
              "      border-bottom-color: var(--fill-color);\n",
              "    }\n",
              "    90% {\n",
              "      border-color: transparent;\n",
              "      border-bottom-color: var(--fill-color);\n",
              "    }\n",
              "  }\n",
              "</style>\n",
              "\n",
              "  <script>\n",
              "    async function quickchart(key) {\n",
              "      const quickchartButtonEl =\n",
              "        document.querySelector('#' + key + ' button');\n",
              "      quickchartButtonEl.disabled = true;  // To prevent multiple clicks.\n",
              "      quickchartButtonEl.classList.add('colab-df-spinner');\n",
              "      try {\n",
              "        const charts = await google.colab.kernel.invokeFunction(\n",
              "            'suggestCharts', [key], {});\n",
              "      } catch (error) {\n",
              "        console.error('Error during call to suggestCharts:', error);\n",
              "      }\n",
              "      quickchartButtonEl.classList.remove('colab-df-spinner');\n",
              "      quickchartButtonEl.classList.add('colab-df-quickchart-complete');\n",
              "    }\n",
              "    (() => {\n",
              "      let quickchartButtonEl =\n",
              "        document.querySelector('#df-43495d69-1a4a-433a-9481-6fd9a732bbdc button');\n",
              "      quickchartButtonEl.style.display =\n",
              "        google.colab.kernel.accessAllowed ? 'block' : 'none';\n",
              "    })();\n",
              "  </script>\n",
              "</div>\n",
              "\n",
              "  <div id=\"id_0dd2bf2b-c0b3-46d5-b35a-a036e13dea34\">\n",
              "    <style>\n",
              "      .colab-df-generate {\n",
              "        background-color: #E8F0FE;\n",
              "        border: none;\n",
              "        border-radius: 50%;\n",
              "        cursor: pointer;\n",
              "        display: none;\n",
              "        fill: #1967D2;\n",
              "        height: 32px;\n",
              "        padding: 0 0 0 0;\n",
              "        width: 32px;\n",
              "      }\n",
              "\n",
              "      .colab-df-generate:hover {\n",
              "        background-color: #E2EBFA;\n",
              "        box-shadow: 0px 1px 2px rgba(60, 64, 67, 0.3), 0px 1px 3px 1px rgba(60, 64, 67, 0.15);\n",
              "        fill: #174EA6;\n",
              "      }\n",
              "\n",
              "      [theme=dark] .colab-df-generate {\n",
              "        background-color: #3B4455;\n",
              "        fill: #D2E3FC;\n",
              "      }\n",
              "\n",
              "      [theme=dark] .colab-df-generate:hover {\n",
              "        background-color: #434B5C;\n",
              "        box-shadow: 0px 1px 3px 1px rgba(0, 0, 0, 0.15);\n",
              "        filter: drop-shadow(0px 1px 2px rgba(0, 0, 0, 0.3));\n",
              "        fill: #FFFFFF;\n",
              "      }\n",
              "    </style>\n",
              "    <button class=\"colab-df-generate\" onclick=\"generateWithVariable('data_smiles')\"\n",
              "            title=\"Generate code using this dataframe.\"\n",
              "            style=\"display:none;\">\n",
              "\n",
              "  <svg xmlns=\"http://www.w3.org/2000/svg\" height=\"24px\"viewBox=\"0 0 24 24\"\n",
              "       width=\"24px\">\n",
              "    <path d=\"M7,19H8.4L18.45,9,17,7.55,7,17.6ZM5,21V16.75L18.45,3.32a2,2,0,0,1,2.83,0l1.4,1.43a1.91,1.91,0,0,1,.58,1.4,1.91,1.91,0,0,1-.58,1.4L9.25,21ZM18.45,9,17,7.55Zm-12,3A5.31,5.31,0,0,0,4.9,8.1,5.31,5.31,0,0,0,1,6.5,5.31,5.31,0,0,0,4.9,4.9,5.31,5.31,0,0,0,6.5,1,5.31,5.31,0,0,0,8.1,4.9,5.31,5.31,0,0,0,12,6.5,5.46,5.46,0,0,0,6.5,12Z\"/>\n",
              "  </svg>\n",
              "    </button>\n",
              "    <script>\n",
              "      (() => {\n",
              "      const buttonEl =\n",
              "        document.querySelector('#id_0dd2bf2b-c0b3-46d5-b35a-a036e13dea34 button.colab-df-generate');\n",
              "      buttonEl.style.display =\n",
              "        google.colab.kernel.accessAllowed ? 'block' : 'none';\n",
              "\n",
              "      buttonEl.onclick = () => {\n",
              "        google.colab.notebook.generateWithVariable('data_smiles');\n",
              "      }\n",
              "      })();\n",
              "    </script>\n",
              "  </div>\n",
              "\n",
              "    </div>\n",
              "  </div>\n"
            ],
            "application/vnd.google.colaboratory.intrinsic+json": {
              "type": "dataframe",
              "variable_name": "data_smiles",
              "summary": "{\n  \"name\": \"data_smiles\",\n  \"rows\": 63,\n  \"fields\": [\n    {\n      \"column\": \"Smiles\",\n      \"properties\": {\n        \"dtype\": \"string\",\n        \"num_unique_values\": 63,\n        \"samples\": [\n          \"COc1ccc(cc1C(=O)Nc2nc3cc(c(cc3s2)OC)Cl)Cl\",\n          \"c1c(cnc(c1F)C(=O)N2CCOC[C@H](C2)CO)F\",\n          \"Cc1c(snn1)C(=O)N2CCC[C@@H](C2)C(=O)c3cnn(c3N)c4ccc(cc4)OC\"\n        ],\n        \"semantic_type\": \"\",\n        \"description\": \"\"\n      }\n    }\n  ]\n}"
            }
          },
          "metadata": {},
          "execution_count": 50
        }
      ]
    },
    {
      "cell_type": "code",
      "source": [
        "x_inference = preprocess(data_smiles['Smiles'],\n",
        "                         tokenizer,\n",
        "                         maxlen)"
      ],
      "metadata": {
        "id": "x_t4EFGfSyCg",
        "outputId": "975b605a-00a9-4932-c862-a3f74d852f46",
        "colab": {
          "base_uri": "https://localhost:8080/"
        }
      },
      "execution_count": 51,
      "outputs": [
        {
          "output_type": "stream",
          "name": "stderr",
          "text": [
            "100%|██████████| 63/63 [00:00<00:00, 1343.76it/s]\n"
          ]
        }
      ]
    },
    {
      "cell_type": "code",
      "source": [
        "output = model.predict(x_inference, batch_size = 32)"
      ],
      "metadata": {
        "id": "dKjkBX4fV7Km",
        "outputId": "37760fb1-14e4-4086-e5f8-12fe5b9c6b2e",
        "colab": {
          "base_uri": "https://localhost:8080/"
        }
      },
      "execution_count": 52,
      "outputs": [
        {
          "output_type": "stream",
          "name": "stdout",
          "text": [
            "2/2 [==============================] - 3s 1s/step\n"
          ]
        }
      ]
    },
    {
      "cell_type": "code",
      "source": [
        "print(output[:,0])"
      ],
      "metadata": {
        "id": "51xzzR7czYWT",
        "outputId": "ce5427e6-75fe-4d6f-ef54-8bba6b1a98d8",
        "colab": {
          "base_uri": "https://localhost:8080/"
        }
      },
      "execution_count": 53,
      "outputs": [
        {
          "output_type": "stream",
          "name": "stdout",
          "text": [
            "[[ 8.342318 ]\n",
            " [11.779715 ]\n",
            " [ 8.256606 ]\n",
            " [ 8.035853 ]\n",
            " [ 9.92575  ]\n",
            " [ 4.0407557]\n",
            " [ 8.754352 ]\n",
            " [ 7.5883183]\n",
            " [ 8.697096 ]\n",
            " [ 7.4068966]\n",
            " [ 9.015833 ]\n",
            " [ 9.891786 ]\n",
            " [ 7.1062407]\n",
            " [ 7.7503896]\n",
            " [ 8.051925 ]\n",
            " [ 8.6314535]\n",
            " [ 7.927847 ]\n",
            " [ 8.520679 ]\n",
            " [ 5.183228 ]\n",
            " [ 8.186373 ]\n",
            " [ 9.436341 ]\n",
            " [10.714754 ]\n",
            " [ 9.825087 ]\n",
            " [ 8.397918 ]\n",
            " [11.723889 ]\n",
            " [ 9.794795 ]\n",
            " [ 7.4901648]\n",
            " [ 6.989981 ]\n",
            " [ 8.61776  ]\n",
            " [ 8.007542 ]\n",
            " [ 8.91713  ]\n",
            " [ 9.998711 ]\n",
            " [ 9.205497 ]\n",
            " [ 9.800071 ]\n",
            " [ 7.233173 ]\n",
            " [ 7.0540104]\n",
            " [ 6.8479395]\n",
            " [ 6.4550567]\n",
            " [ 6.3660455]\n",
            " [ 5.5711637]\n",
            " [ 7.7704706]\n",
            " [ 9.717107 ]\n",
            " [10.325511 ]\n",
            " [ 8.332448 ]\n",
            " [10.226373 ]\n",
            " [ 5.498698 ]\n",
            " [ 9.671343 ]\n",
            " [ 8.467948 ]\n",
            " [ 9.588262 ]\n",
            " [10.223012 ]\n",
            " [ 5.4660754]\n",
            " [ 5.18373  ]\n",
            " [13.137334 ]\n",
            " [ 9.968843 ]\n",
            " [ 7.7357473]\n",
            " [ 9.56764  ]\n",
            " [11.352939 ]\n",
            " [ 8.731487 ]\n",
            " [ 6.7363925]\n",
            " [ 9.366592 ]\n",
            " [11.198803 ]\n",
            " [10.221776 ]\n",
            " [ 9.495995 ]]\n"
          ]
        }
      ]
    },
    {
      "cell_type": "code",
      "source": [],
      "metadata": {
        "id": "Aq4KT_0dFPQb"
      },
      "execution_count": null,
      "outputs": []
    }
  ]
}