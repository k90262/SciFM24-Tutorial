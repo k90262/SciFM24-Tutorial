{
  "nbformat": 4,
  "nbformat_minor": 0,
  "metadata": {
    "colab": {
      "provenance": [],
      "authorship_tag": "ABX9TyMZD4nufjNaahuic+pHnSW1",
      "include_colab_link": true
    },
    "kernelspec": {
      "name": "python3",
      "display_name": "Python 3"
    },
    "language_info": {
      "name": "python"
    }
  },
  "cells": [
    {
      "cell_type": "markdown",
      "metadata": {
        "id": "view-in-github",
        "colab_type": "text"
      },
      "source": [
        "<a href=\"https://colab.research.google.com/github/ramanathanlab/SciFM24-Tutorial/blob/main/Agents.ipynb\" target=\"_parent\"><img src=\"https://colab.research.google.com/assets/colab-badge.svg\" alt=\"Open In Colab\"/></a>"
      ]
    },
    {
      "cell_type": "markdown",
      "source": [
        "# **Using Agents to automate Biology Protocols via code generation**\n",
        "\n",
        "If you are using the jupyter notebook locally, please run on Colab instead: https://colab.research.google.com/drive/1MLKC9usK-rVZv42exuPgRV398hIHAfcZ?usp=sharing\n",
        "\n",
        "## **Problem:**\n",
        "In biology, liquid-handling experiments can be tedious to complete (**ex.** serial dilution in PCR). To automate these processes, We can convert lab instructions into robot-compatible code to automate protocols (**ex.** use opentrons robot to handle liquid distribution processes)\n",
        "\n",
        "## **Agents:**\n",
        "\n",
        "In this case, an \"action agent\" (code-generating language model class) can help us generate code and refine it. We will focus on **one** action agent to keep things simple. This agent will help us generate code for thermocycling and refine it based on execution errors feedback.\n",
        "* **Note:** Agents can be finnicky...sometimes it will struggle to generate the right code!\n"
      ],
      "metadata": {
        "id": "iwMjR4Tkk3EG"
      }
    },
    {
      "cell_type": "code",
      "execution_count": 5,
      "metadata": {
        "colab": {
          "base_uri": "https://localhost:8080/"
        },
        "id": "QmyYnTLhf1Gz",
        "outputId": "bfe356aa-ae1a-406e-8cac-47dfe43c3d56"
      },
      "outputs": [
        {
          "output_type": "stream",
          "name": "stdout",
          "text": [
            "\u001b[2K     \u001b[90m━━━━━━━━━━━━━━━━━━━━━━━━━━━━━━━━━━━━━━━━\u001b[0m \u001b[32m810.5/810.5 kB\u001b[0m \u001b[31m8.1 MB/s\u001b[0m eta \u001b[36m0:00:00\u001b[0m\n",
            "\u001b[2K     \u001b[90m━━━━━━━━━━━━━━━━━━━━━━━━━━━━━━━━━━━━━━━━\u001b[0m \u001b[32m1.9/1.9 MB\u001b[0m \u001b[31m21.7 MB/s\u001b[0m eta \u001b[36m0:00:00\u001b[0m\n",
            "\u001b[2K     \u001b[90m━━━━━━━━━━━━━━━━━━━━━━━━━━━━━━━━━━━━━━━━\u001b[0m \u001b[32m279.2/279.2 kB\u001b[0m \u001b[31m18.6 MB/s\u001b[0m eta \u001b[36m0:00:00\u001b[0m\n",
            "\u001b[2K     \u001b[90m━━━━━━━━━━━━━━━━━━━━━━━━━━━━━━━━━━━━━━━━\u001b[0m \u001b[32m86.9/86.9 kB\u001b[0m \u001b[31m7.7 MB/s\u001b[0m eta \u001b[36m0:00:00\u001b[0m\n",
            "\u001b[2K     \u001b[90m━━━━━━━━━━━━━━━━━━━━━━━━━━━━━━━━━━━━━━━━\u001b[0m \u001b[32m49.4/49.4 kB\u001b[0m \u001b[31m5.4 MB/s\u001b[0m eta \u001b[36m0:00:00\u001b[0m\n",
            "\u001b[2K     \u001b[90m━━━━━━━━━━━━━━━━━━━━━━━━━━━━━━━━━━━━━━━━\u001b[0m \u001b[32m53.0/53.0 kB\u001b[0m \u001b[31m5.5 MB/s\u001b[0m eta \u001b[36m0:00:00\u001b[0m\n",
            "\u001b[2K     \u001b[90m━━━━━━━━━━━━━━━━━━━━━━━━━━━━━━━━━━━━━━━━\u001b[0m \u001b[32m144.8/144.8 kB\u001b[0m \u001b[31m16.8 MB/s\u001b[0m eta \u001b[36m0:00:00\u001b[0m\n",
            "\u001b[2K     \u001b[90m━━━━━━━━━━━━━━━━━━━━━━━━━━━━━━━━━━━━━━━━\u001b[0m \u001b[32m1.4/1.4 MB\u001b[0m \u001b[31m12.8 MB/s\u001b[0m eta \u001b[36m0:00:00\u001b[0m\n",
            "\u001b[2K     \u001b[90m━━━━━━━━━━━━━━━━━━━━━━━━━━━━━━━━━━━━━━━━\u001b[0m \u001b[32m623.7/623.7 kB\u001b[0m \u001b[31m7.2 MB/s\u001b[0m eta \u001b[36m0:00:00\u001b[0m\n",
            "\u001b[2K     \u001b[90m━━━━━━━━━━━━━━━━━━━━━━━━━━━━━━━━━━━━━━━━\u001b[0m \u001b[32m90.4/90.4 kB\u001b[0m \u001b[31m9.3 MB/s\u001b[0m eta \u001b[36m0:00:00\u001b[0m\n",
            "\u001b[2K     \u001b[90m━━━━━━━━━━━━━━━━━━━━━━━━━━━━━━━━━━━━━━━━\u001b[0m \u001b[32m3.1/3.1 MB\u001b[0m \u001b[31m30.4 MB/s\u001b[0m eta \u001b[36m0:00:00\u001b[0m\n",
            "\u001b[2K     \u001b[90m━━━━━━━━━━━━━━━━━━━━━━━━━━━━━━━━━━━━━━━━\u001b[0m \u001b[32m90.6/90.6 kB\u001b[0m \u001b[31m9.6 MB/s\u001b[0m eta \u001b[36m0:00:00\u001b[0m\n",
            "\u001b[2K     \u001b[90m━━━━━━━━━━━━━━━━━━━━━━━━━━━━━━━━━━━━━━━━\u001b[0m \u001b[32m117.7/117.7 kB\u001b[0m \u001b[31m12.7 MB/s\u001b[0m eta \u001b[36m0:00:00\u001b[0m\n",
            "\u001b[2K     \u001b[90m━━━━━━━━━━━━━━━━━━━━━━━━━━━━━━━━━━━━━━━━\u001b[0m \u001b[32m137.4/137.4 kB\u001b[0m \u001b[31m4.7 MB/s\u001b[0m eta \u001b[36m0:00:00\u001b[0m\n",
            "\u001b[2K     \u001b[90m━━━━━━━━━━━━━━━━━━━━━━━━━━━━━━━━━━━━━━━━\u001b[0m \u001b[32m266.9/266.9 kB\u001b[0m \u001b[31m6.7 MB/s\u001b[0m eta \u001b[36m0:00:00\u001b[0m\n",
            "\u001b[2K     \u001b[90m━━━━━━━━━━━━━━━━━━━━━━━━━━━━━━━━━━━━━━━━\u001b[0m \u001b[32m1.8/1.8 MB\u001b[0m \u001b[31m16.7 MB/s\u001b[0m eta \u001b[36m0:00:00\u001b[0m\n",
            "\u001b[2K     \u001b[90m━━━━━━━━━━━━━━━━━━━━━━━━━━━━━━━━━━━━━━━━\u001b[0m \u001b[32m75.6/75.6 kB\u001b[0m \u001b[31m6.8 MB/s\u001b[0m eta \u001b[36m0:00:00\u001b[0m\n",
            "\u001b[2K     \u001b[90m━━━━━━━━━━━━━━━━━━━━━━━━━━━━━━━━━━━━━━━━\u001b[0m \u001b[32m77.9/77.9 kB\u001b[0m \u001b[31m7.7 MB/s\u001b[0m eta \u001b[36m0:00:00\u001b[0m\n",
            "\u001b[2K     \u001b[90m━━━━━━━━━━━━━━━━━━━━━━━━━━━━━━━━━━━━━━━━\u001b[0m \u001b[32m58.3/58.3 kB\u001b[0m \u001b[31m4.6 MB/s\u001b[0m eta \u001b[36m0:00:00\u001b[0m\n",
            "\u001b[?25hCloning into 'michigan_demo'...\n",
            "remote: Enumerating objects: 21, done.\u001b[K\n",
            "remote: Counting objects: 100% (21/21), done.\u001b[K\n",
            "remote: Compressing objects: 100% (13/13), done.\u001b[K\n",
            "remote: Total 21 (delta 10), reused 16 (delta 8), pack-reused 0\u001b[K\n",
            "Receiving objects: 100% (21/21), 5.69 KiB | 5.69 MiB/s, done.\n",
            "Resolving deltas: 100% (10/10), done.\n"
          ]
        }
      ],
      "source": [
        "# install packages\n",
        "!pip install --quiet langchain==0.1.13\n",
        "!pip install --quiet opentrons==7.2.1\n",
        "!pip install --upgrade --quiet langchain-google-genai==1.0.1\n",
        "!pip install --upgrade --quiet  langchain-openai\n",
        "!git clone https://github.com/Bri636/michigan_demo.git"
      ]
    },
    {
      "cell_type": "code",
      "source": [
        "from langchain.prompts import FewShotChatMessagePromptTemplate, HumanMessagePromptTemplate, AIMessagePromptTemplate, SystemMessagePromptTemplate\n",
        "from opentrons import protocol_api\n",
        "from langchain.memory import ConversationBufferMemory, ConversationBufferWindowMemory\n",
        "from langchain import PromptTemplate, LLMChain\n",
        "from langchain.prompts.chat import MessagesPlaceholder\n",
        "from langchain_google_genai import GoogleGenerativeAI\n",
        "from langchain_community.llms import HuggingFaceEndpoint\n",
        "from dataclasses import dataclass\n",
        "import os, textwrap, subprocess, re\n",
        "from pathlib import Path\n",
        "from langchain_openai import ChatOpenAI\n",
        "from getpass import getpass"
      ],
      "metadata": {
        "id": "VHNh9bCPg1CM"
      },
      "execution_count": 6,
      "outputs": []
    },
    {
      "cell_type": "markdown",
      "source": [
        "# API Keys:\n",
        "\n",
        "Two options:\n",
        "\n",
        "1.) Use GPT (Paid): https://platform.openai.com/account/api-keys\n",
        "\n",
        "2.) Use Gemini (Free): https://ai.google.dev/"
      ],
      "metadata": {
        "id": "XLPalGmpn7a2"
      }
    },
    {
      "cell_type": "code",
      "source": [
        "# grab api key\n",
        "my_model = 'Gemini' #@param ['Gemini', 'GPT']\n",
        "api_key = getpass(\"Enter your Google or GPT api key here: \")"
      ],
      "metadata": {
        "id": "v3UTsA7Eg1FK",
        "colab": {
          "base_uri": "https://localhost:8080/"
        },
        "outputId": "98984c2f-5bb5-4566-be9a-ed4422e393ce"
      },
      "execution_count": 34,
      "outputs": [
        {
          "name": "stdout",
          "output_type": "stream",
          "text": [
            "Enter your Google or GPT api key here: ··········\n"
          ]
        }
      ]
    },
    {
      "cell_type": "code",
      "source": [
        "if my_model=='Gemini':\n",
        "  llm = GoogleGenerativeAI(model='gemini-pro',\n",
        "                           google_api_key=api_key)\n",
        "elif my_model==\"GPT\":\n",
        "  llm = ChatOpenAI(model='gpt-4', openai_api_key=api_key)"
      ],
      "metadata": {
        "id": "3uyLQgJZg1H0"
      },
      "execution_count": 35,
      "outputs": []
    },
    {
      "cell_type": "code",
      "source": [
        "@dataclass\n",
        "class Templates():\n",
        "  system:str=\"\"\n",
        "  few_shot:str=\"\"\n",
        "  code:str=\"\"\n",
        "  input:str=\"\"\n",
        "\n",
        "  @classmethod\n",
        "  def collect_templates(cls, agent:str) -> dataclass:\n",
        "    cls.system=cls.get_template(agent, 'system')\n",
        "    cls.direction=cls.get_template(agent, 'direction')\n",
        "    cls.code=cls.get_template(agent, 'code')\n",
        "    return cls\n",
        "\n",
        "  def get_template(agent:str, type:str) -> str:\n",
        "    '''Helper function for downloading template types\n",
        "    Parameters:\n",
        "    ----------\n",
        "    agent: ['action' or 'critic']\n",
        "    type: ['code', 'direction', 'system']\n",
        "\n",
        "    Outputs:\n",
        "    --------\n",
        "    LLM prompts as strings\n",
        "    '''\n",
        "    filepath=Path(f\"/content/michigan_demo/{agent}_{type}.txt\")\n",
        "    with open(filepath, 'r') as file:\n",
        "      prompt = file.read()\n",
        "    return prompt"
      ],
      "metadata": {
        "id": "vzlvjsmqpS26"
      },
      "execution_count": 36,
      "outputs": []
    },
    {
      "cell_type": "code",
      "source": [
        "class LabWorker():\n",
        "    def __init__(self, temperature=0, model_type=None, verbose=True):\n",
        "        self.temperature = temperature\n",
        "        self.model_type = model_type\n",
        "        self.verbose=verbose\n",
        "        if self.model_type=='Gemini':\n",
        "            self.llm = GoogleGenerativeAI(model=\"gemini-pro\",\n",
        "                                        google_api_key=api_key,\n",
        "                                        verbose=self.verbose)\n",
        "        elif self.model_type=='GPT':\n",
        "            self.llm = ChatOpenAI(model='gpt-4',\n",
        "                                  api_key=api_key,\n",
        "                                  verbose=self.verbose)\n",
        "\n",
        "    @classmethod\n",
        "    def initialize(cls, temperature:int=0, model_type:str='gemini',\n",
        "                   verbose:bool=True, templates=None) -> object:\n",
        "        \"\"\"Creates an instance of the agent and initializes a chains\"\"\"\n",
        "        agent = cls(temperature, model_type, verbose)\n",
        "        agent.init_chain(templates)\n",
        "        return agent\n",
        "\n",
        "    def init_chain(self, templates:dataclass) -> None:\n",
        "        \"\"\"Initialized LLMChain based on agent_type [action, critic]\"\"\"\n",
        "        system_prompt = SystemMessagePromptTemplate.from_template(templates.system)\n",
        "        few_shot_prompt=(\n",
        "            HumanMessagePromptTemplate.from_template(templates.direction)\n",
        "            + AIMessagePromptTemplate.from_template(templates.code))\n",
        "        history_prompt = MessagesPlaceholder(variable_name=\"chat_history\")\n",
        "        memory_gen = ConversationBufferWindowMemory(k=10, memory_key = \"chat_history\", return_messages = True)\n",
        "        input_prompt = HumanMessagePromptTemplate.from_template(\"{user_input}\")\n",
        "        self.final_prompt = (\n",
        "                      system_prompt\n",
        "                      + few_shot_prompt\n",
        "                      + history_prompt\n",
        "                      + input_prompt\n",
        "                      )\n",
        "        self.chain = LLMChain(llm = self.llm,\n",
        "                              prompt = self.final_prompt,\n",
        "                              verbose = self.verbose,\n",
        "                              memory = memory_gen)\n",
        "        return None"
      ],
      "metadata": {
        "id": "7fblVXk6mKhF"
      },
      "execution_count": 28,
      "outputs": []
    },
    {
      "cell_type": "code",
      "source": [
        "class ActionAgent(LabWorker):\n",
        "    def candidate_script_extractor(self, raw_edits: str) -> str:\n",
        "      \"\"\"Takes in raw re-edit output from GPT and returns cleaned script\n",
        "      Parameters\n",
        "      =========\n",
        "      raw_edits: str\n",
        "          str that contains raw code with comments output from GPT\n",
        "      Output\n",
        "      ========\n",
        "      format_code: str\n",
        "          str that contains formatted code that can be ran in cli\n",
        "      \"\"\"\n",
        "      pattern = re.escape(\"```\") + r\"(.*?)\" + re.escape(\"```\")\n",
        "      matches = re.search(pattern, raw_edits, flags=re.DOTALL)\n",
        "      if matches is None:\n",
        "          return raw_edits\n",
        "      format_code = matches.group(1).strip()\n",
        "      return format_code\n",
        "\n",
        "    def simulate_opentrons(self, code: str, storage_path:str) -> str:\n",
        "      \"\"\"Helper function that simulates code in opentrons\n",
        "      Parameters\n",
        "      ==========\n",
        "      code: str\n",
        "          code generatred from code_generator chain\n",
        "          as a str\n",
        "      save_path: str\n",
        "          save path as a str\n",
        "      Output\n",
        "      =========\n",
        "      str:\n",
        "          str for output error or output\n",
        "      \"\"\"\n",
        "      code = textwrap.dedent(code)\n",
        "      with open(storage_path, \"w\") as file:\n",
        "          file.write(code)\n",
        "      cli = [\"opentrons_simulate\", storage_path]\n",
        "      result = subprocess.run(args=cli, capture_output=True, text=True)\n",
        "      return result\n",
        "\n",
        "    def refine(self, code: str, num_retries:int, storage_path:str) -> str:\n",
        "      \"\"\"Function that takes in code and iteratively refines it by saving as a file and running\n",
        "      it against the cli for execution errors.\n",
        "      Parameters\n",
        "      ==========\n",
        "      code: str\n",
        "        code as a string\n",
        "      num_retries: int\n",
        "        number times to refine code\n",
        "      storage_path: str\n",
        "        file path to store temporary code\n",
        "      Output\n",
        "      ======\n",
        "      tuple[str]:\n",
        "        stores code and final message\"\"\"\n",
        "\n",
        "      code = self.candidate_script_extractor(code)\n",
        "      result = self.simulate_opentrons(code, storage_path)\n",
        "      for i in range(num_retries):\n",
        "          if result.returncode==0:\n",
        "              break\n",
        "          error_message = \"\"\"The script you provided failed, and the execution error is described below. Please fix the error.\n",
        "          \\n\\nError Message:\\n\\n\"\"\" + result.stderr\n",
        "          raw_edit = self.chain.run({'user_input': error_message})\n",
        "          code = self.candidate_script_extractor(raw_edit)\n",
        "          result = self.simulate_opentrons(code, storage_path)\n",
        "      success=result.returncode==0\n",
        "      if success and i == 0:\n",
        "          message = f\"Your code did not need to be fixed:\\n{result.stdout}\"\n",
        "      elif success:\n",
        "          message = f\"Your code fixed itself in {i} tries:\\n{result.stdout}\"\n",
        "      else:\n",
        "          message = f\"Your code failed to fix itself in {i} times:\\n{result.stderr}\"\n",
        "      return code, message\n"
      ],
      "metadata": {
        "id": "bSpA9RTxHGD-"
      },
      "execution_count": 16,
      "outputs": []
    },
    {
      "cell_type": "code",
      "source": [
        "action_template = Templates.collect_templates('action')\n",
        "# action_template.input='''\n",
        "# 1.) Load a themocycler module of type 'thermocyclerModuleV2'.\n",
        "# 2.) Loop through the following set of sub-tasks in a loop 20 times:\n",
        "#     a.) Set the thermocycler block temperature to 95 C, set hold time to 30 seconds, and set block max volume to 32 ul.\n",
        "#     b.) Set the thermocycler block temperature to 57 C, set hold time to 30 seconds, and set block max volume to 32 ul.\n",
        "#     c.) Set the thermocycler block temperature to 72 C, set hold time to 60 seconds, and set block max volume to 50 ul.\n",
        "# '''\n",
        "\n",
        "# pipetting input\n",
        "action_template.input='''\n",
        "1.) Start by loading the tiprack onto slot 1 of the Opentrons robot. Use 'opentrons_96_tiprack_300ul' labware for the tip rack.\n",
        "2.) Load a reservoir of type 'nest_12_reservoir_15ml' in slot 2.\n",
        "3.) Load a plate of type 'nest_96_wellplate_200ul_flat' in slot 3.\n",
        "4.) Using the pipette, transfer 100 µL from location 'A1' in the loaded reservoir to wells of our loaded plate.\n",
        "5.) Using the pipette transfer 100 µL from location 'A2' in the loaded reservoir to the first well in the ith column. Mix with 3 repetitions of 50 µL.\n",
        "'''"
      ],
      "metadata": {
        "id": "zskOsTJUC3qM"
      },
      "execution_count": null,
      "outputs": []
    },
    {
      "cell_type": "code",
      "source": [
        "actionagent = ActionAgent.initialize(templates=action_template, model_type=my_model)\n",
        "code = actionagent.chain.run({'user_input':action_template.input})\n",
        "print(code)"
      ],
      "metadata": {
        "colab": {
          "base_uri": "https://localhost:8080/"
        },
        "id": "aiOyz7YXO4RJ",
        "outputId": "665eff8b-847d-457b-f60b-1b166fc38278"
      },
      "execution_count": null,
      "outputs": [
        {
          "output_type": "stream",
          "name": "stderr",
          "text": [
            "/usr/local/lib/python3.10/dist-packages/langchain_core/_api/deprecation.py:117: LangChainDeprecationWarning: The function `run` was deprecated in LangChain 0.1.0 and will be removed in 0.2.0. Use invoke instead.\n",
            "  warn_deprecated(\n"
          ]
        },
        {
          "output_type": "stream",
          "name": "stdout",
          "text": [
            "\n",
            "\n",
            "\u001b[1m> Entering new LLMChain chain...\u001b[0m\n",
            "Prompt after formatting:\n",
            "\u001b[32;1m\u001b[1;3mSystem: You are a coding assistant that will convert lab protocol instructions into executable Opentrons scripts using the Opentrons library. You will also help debug code if the code you generate is incorrect. Here are some general guidlines: \n",
            "\n",
            "1.) Respond in the format: \n",
            "```\n",
            "from opentrons import protocol_api\n",
            "\n",
            "metadata={'apiLevel': '2.0'}\n",
            "```\n",
            "just include your code in this format and nothing else, or you will be punished.\n",
            "\n",
            "2.) Always import \"from opentrons import protocol_api\" as well as the metadata at the start of your script. \n",
            "\n",
            "Human: 1.) Start by loading the tip rack onto slot 2 of the Opentrons robot. Use 'geb_96_tiprack_1000ul' labware for the tip rack.\n",
            "2.) Load a plate of type 'armadillo_96_wellplate_200ul_pcr_full_skirt' onto slot 3.\n",
            "3.) Load a pipette of type 'p1000_single'. Load it as a left mount. Use the tipracks from geb_96_tiprack_1000ul as the tiprack.\n",
            "4.) Use the pipette that you have just loaded to pick up a tip\n",
            "\n",
            "AI: from opentrons import protocol_api\n",
            "\n",
            "metadata={'apiLevel': '2.0'}\n",
            "\n",
            "def run(protocol: protocol_api.ProtocolContext):\n",
            "    tiprack = protocol.load_labware(load_name = 'opentrons_96_filtertiprack_200ul', location = 2)\n",
            "    plate = protocol.load_labware(load_name = 'corning_12_wellplate_6.9ml_flat', location = 3)\n",
            "    pipette = protocol.load_instrument(instrument_name = 'p1000_single_gen2', mount='left')\n",
            "\n",
            "Human: \n",
            "1.) Start by loading the tiprack onto slot 1 of the Opentrons robot. Use 'opentrons_96_tiprack_300ul' labware for the tip rack.\n",
            "2.) Load a reservoir of type 'nest_12_reservoir_15ml' in slot 2.\n",
            "3.) Load a plate of type 'nest_96_wellplate_200ul_flat' in slot 3.\n",
            "4.) Using the pipette, transfer 100 µL from location 'A1' in the loaded reservoir to wells of our loaded plate. \n",
            "5.) Using the pipette transfer 100 µL from location 'A2' in the loaded reservoir to the first well in the ith column. Mix with 3 repetitions of 50 µL.\n",
            "\u001b[0m\n",
            "\n",
            "\u001b[1m> Finished chain.\u001b[0m\n",
            "from opentrons import protocol_api\n",
            "\n",
            "metadata={'apiLevel': '2.0'}\n",
            "\n",
            "def run(protocol: protocol_api.ProtocolContext):\n",
            "    tiprack = protocol.load_labware('opentrons_96_tiprack_300ul', 1)\n",
            "    reservoir = protocol.load_labware('nest_12_reservoir_15ml', 2)\n",
            "    plate = protocol.load_labware('nest_96_wellplate_200ul_flat', 3)\n",
            "\n",
            "    pipette = protocol.load_instrument('p300_single', 'right', tip_racks=[tiprack])\n",
            "\n",
            "    pipette.pick_up_tip()\n",
            "\n",
            "    pipette.transfer(100, reservoir.wells_by_name()['A1'], plate.wells(), new_tip='never')\n",
            "\n",
            "    pipette.transfer(100, reservoir.wells_by_name()['A2'], plate.columns_by_name()['1'][0], mix_after=(3, 50), new_tip='never')\n",
            "\n",
            "    pipette.drop_tip()\n"
          ]
        }
      ]
    },
    {
      "cell_type": "code",
      "source": [
        "code, result = actionagent.refine(code, 5, \"/candidate_code.py\")\n",
        "print(result)"
      ],
      "metadata": {
        "colab": {
          "base_uri": "https://localhost:8080/"
        },
        "id": "m0ZImeWHBfuh",
        "outputId": "f265c530-ab3d-4e4a-fe64-da32f2b53a45"
      },
      "execution_count": null,
      "outputs": [
        {
          "output_type": "stream",
          "name": "stdout",
          "text": [
            "Your code did not need to be fixed:\n",
            "Picking up tip from A1 of Opentrons OT-2 96 Tip Rack 300 µL on 1\n",
            "Transferring 100.0 from A1 of NEST 12 Well Reservoir 15 mL on 2 to A1 of NEST 96 Well Plate 200 µL Flat on 3\n",
            "\tAspirating 100.0 uL from A1 of NEST 12 Well Reservoir 15 mL on 2 at 150.0 uL/sec\n",
            "\tDispensing 100.0 uL into A1 of NEST 96 Well Plate 200 µL Flat on 3 at 300.0 uL/sec\n",
            "\tAspirating 100.0 uL from A1 of NEST 12 Well Reservoir 15 mL on 2 at 150.0 uL/sec\n",
            "\tDispensing 100.0 uL into B1 of NEST 96 Well Plate 200 µL Flat on 3 at 300.0 uL/sec\n",
            "\tAspirating 100.0 uL from A1 of NEST 12 Well Reservoir 15 mL on 2 at 150.0 uL/sec\n",
            "\tDispensing 100.0 uL into C1 of NEST 96 Well Plate 200 µL Flat on 3 at 300.0 uL/sec\n",
            "\tAspirating 100.0 uL from A1 of NEST 12 Well Reservoir 15 mL on 2 at 150.0 uL/sec\n",
            "\tDispensing 100.0 uL into D1 of NEST 96 Well Plate 200 µL Flat on 3 at 300.0 uL/sec\n",
            "\tAspirating 100.0 uL from A1 of NEST 12 Well Reservoir 15 mL on 2 at 150.0 uL/sec\n",
            "\tDispensing 100.0 uL into E1 of NEST 96 Well Plate 200 µL Flat on 3 at 300.0 uL/sec\n",
            "\tAspirating 100.0 uL from A1 of NEST 12 Well Reservoir 15 mL on 2 at 150.0 uL/sec\n",
            "\tDispensing 100.0 uL into F1 of NEST 96 Well Plate 200 µL Flat on 3 at 300.0 uL/sec\n",
            "\tAspirating 100.0 uL from A1 of NEST 12 Well Reservoir 15 mL on 2 at 150.0 uL/sec\n",
            "\tDispensing 100.0 uL into G1 of NEST 96 Well Plate 200 µL Flat on 3 at 300.0 uL/sec\n",
            "\tAspirating 100.0 uL from A1 of NEST 12 Well Reservoir 15 mL on 2 at 150.0 uL/sec\n",
            "\tDispensing 100.0 uL into H1 of NEST 96 Well Plate 200 µL Flat on 3 at 300.0 uL/sec\n",
            "\tAspirating 100.0 uL from A1 of NEST 12 Well Reservoir 15 mL on 2 at 150.0 uL/sec\n",
            "\tDispensing 100.0 uL into A2 of NEST 96 Well Plate 200 µL Flat on 3 at 300.0 uL/sec\n",
            "\tAspirating 100.0 uL from A1 of NEST 12 Well Reservoir 15 mL on 2 at 150.0 uL/sec\n",
            "\tDispensing 100.0 uL into B2 of NEST 96 Well Plate 200 µL Flat on 3 at 300.0 uL/sec\n",
            "\tAspirating 100.0 uL from A1 of NEST 12 Well Reservoir 15 mL on 2 at 150.0 uL/sec\n",
            "\tDispensing 100.0 uL into C2 of NEST 96 Well Plate 200 µL Flat on 3 at 300.0 uL/sec\n",
            "\tAspirating 100.0 uL from A1 of NEST 12 Well Reservoir 15 mL on 2 at 150.0 uL/sec\n",
            "\tDispensing 100.0 uL into D2 of NEST 96 Well Plate 200 µL Flat on 3 at 300.0 uL/sec\n",
            "\tAspirating 100.0 uL from A1 of NEST 12 Well Reservoir 15 mL on 2 at 150.0 uL/sec\n",
            "\tDispensing 100.0 uL into E2 of NEST 96 Well Plate 200 µL Flat on 3 at 300.0 uL/sec\n",
            "\tAspirating 100.0 uL from A1 of NEST 12 Well Reservoir 15 mL on 2 at 150.0 uL/sec\n",
            "\tDispensing 100.0 uL into F2 of NEST 96 Well Plate 200 µL Flat on 3 at 300.0 uL/sec\n",
            "\tAspirating 100.0 uL from A1 of NEST 12 Well Reservoir 15 mL on 2 at 150.0 uL/sec\n",
            "\tDispensing 100.0 uL into G2 of NEST 96 Well Plate 200 µL Flat on 3 at 300.0 uL/sec\n",
            "\tAspirating 100.0 uL from A1 of NEST 12 Well Reservoir 15 mL on 2 at 150.0 uL/sec\n",
            "\tDispensing 100.0 uL into H2 of NEST 96 Well Plate 200 µL Flat on 3 at 300.0 uL/sec\n",
            "\tAspirating 100.0 uL from A1 of NEST 12 Well Reservoir 15 mL on 2 at 150.0 uL/sec\n",
            "\tDispensing 100.0 uL into A3 of NEST 96 Well Plate 200 µL Flat on 3 at 300.0 uL/sec\n",
            "\tAspirating 100.0 uL from A1 of NEST 12 Well Reservoir 15 mL on 2 at 150.0 uL/sec\n",
            "\tDispensing 100.0 uL into B3 of NEST 96 Well Plate 200 µL Flat on 3 at 300.0 uL/sec\n",
            "\tAspirating 100.0 uL from A1 of NEST 12 Well Reservoir 15 mL on 2 at 150.0 uL/sec\n",
            "\tDispensing 100.0 uL into C3 of NEST 96 Well Plate 200 µL Flat on 3 at 300.0 uL/sec\n",
            "\tAspirating 100.0 uL from A1 of NEST 12 Well Reservoir 15 mL on 2 at 150.0 uL/sec\n",
            "\tDispensing 100.0 uL into D3 of NEST 96 Well Plate 200 µL Flat on 3 at 300.0 uL/sec\n",
            "\tAspirating 100.0 uL from A1 of NEST 12 Well Reservoir 15 mL on 2 at 150.0 uL/sec\n",
            "\tDispensing 100.0 uL into E3 of NEST 96 Well Plate 200 µL Flat on 3 at 300.0 uL/sec\n",
            "\tAspirating 100.0 uL from A1 of NEST 12 Well Reservoir 15 mL on 2 at 150.0 uL/sec\n",
            "\tDispensing 100.0 uL into F3 of NEST 96 Well Plate 200 µL Flat on 3 at 300.0 uL/sec\n",
            "\tAspirating 100.0 uL from A1 of NEST 12 Well Reservoir 15 mL on 2 at 150.0 uL/sec\n",
            "\tDispensing 100.0 uL into G3 of NEST 96 Well Plate 200 µL Flat on 3 at 300.0 uL/sec\n",
            "\tAspirating 100.0 uL from A1 of NEST 12 Well Reservoir 15 mL on 2 at 150.0 uL/sec\n",
            "\tDispensing 100.0 uL into H3 of NEST 96 Well Plate 200 µL Flat on 3 at 300.0 uL/sec\n",
            "\tAspirating 100.0 uL from A1 of NEST 12 Well Reservoir 15 mL on 2 at 150.0 uL/sec\n",
            "\tDispensing 100.0 uL into A4 of NEST 96 Well Plate 200 µL Flat on 3 at 300.0 uL/sec\n",
            "\tAspirating 100.0 uL from A1 of NEST 12 Well Reservoir 15 mL on 2 at 150.0 uL/sec\n",
            "\tDispensing 100.0 uL into B4 of NEST 96 Well Plate 200 µL Flat on 3 at 300.0 uL/sec\n",
            "\tAspirating 100.0 uL from A1 of NEST 12 Well Reservoir 15 mL on 2 at 150.0 uL/sec\n",
            "\tDispensing 100.0 uL into C4 of NEST 96 Well Plate 200 µL Flat on 3 at 300.0 uL/sec\n",
            "\tAspirating 100.0 uL from A1 of NEST 12 Well Reservoir 15 mL on 2 at 150.0 uL/sec\n",
            "\tDispensing 100.0 uL into D4 of NEST 96 Well Plate 200 µL Flat on 3 at 300.0 uL/sec\n",
            "\tAspirating 100.0 uL from A1 of NEST 12 Well Reservoir 15 mL on 2 at 150.0 uL/sec\n",
            "\tDispensing 100.0 uL into E4 of NEST 96 Well Plate 200 µL Flat on 3 at 300.0 uL/sec\n",
            "\tAspirating 100.0 uL from A1 of NEST 12 Well Reservoir 15 mL on 2 at 150.0 uL/sec\n",
            "\tDispensing 100.0 uL into F4 of NEST 96 Well Plate 200 µL Flat on 3 at 300.0 uL/sec\n",
            "\tAspirating 100.0 uL from A1 of NEST 12 Well Reservoir 15 mL on 2 at 150.0 uL/sec\n",
            "\tDispensing 100.0 uL into G4 of NEST 96 Well Plate 200 µL Flat on 3 at 300.0 uL/sec\n",
            "\tAspirating 100.0 uL from A1 of NEST 12 Well Reservoir 15 mL on 2 at 150.0 uL/sec\n",
            "\tDispensing 100.0 uL into H4 of NEST 96 Well Plate 200 µL Flat on 3 at 300.0 uL/sec\n",
            "\tAspirating 100.0 uL from A1 of NEST 12 Well Reservoir 15 mL on 2 at 150.0 uL/sec\n",
            "\tDispensing 100.0 uL into A5 of NEST 96 Well Plate 200 µL Flat on 3 at 300.0 uL/sec\n",
            "\tAspirating 100.0 uL from A1 of NEST 12 Well Reservoir 15 mL on 2 at 150.0 uL/sec\n",
            "\tDispensing 100.0 uL into B5 of NEST 96 Well Plate 200 µL Flat on 3 at 300.0 uL/sec\n",
            "\tAspirating 100.0 uL from A1 of NEST 12 Well Reservoir 15 mL on 2 at 150.0 uL/sec\n",
            "\tDispensing 100.0 uL into C5 of NEST 96 Well Plate 200 µL Flat on 3 at 300.0 uL/sec\n",
            "\tAspirating 100.0 uL from A1 of NEST 12 Well Reservoir 15 mL on 2 at 150.0 uL/sec\n",
            "\tDispensing 100.0 uL into D5 of NEST 96 Well Plate 200 µL Flat on 3 at 300.0 uL/sec\n",
            "\tAspirating 100.0 uL from A1 of NEST 12 Well Reservoir 15 mL on 2 at 150.0 uL/sec\n",
            "\tDispensing 100.0 uL into E5 of NEST 96 Well Plate 200 µL Flat on 3 at 300.0 uL/sec\n",
            "\tAspirating 100.0 uL from A1 of NEST 12 Well Reservoir 15 mL on 2 at 150.0 uL/sec\n",
            "\tDispensing 100.0 uL into F5 of NEST 96 Well Plate 200 µL Flat on 3 at 300.0 uL/sec\n",
            "\tAspirating 100.0 uL from A1 of NEST 12 Well Reservoir 15 mL on 2 at 150.0 uL/sec\n",
            "\tDispensing 100.0 uL into G5 of NEST 96 Well Plate 200 µL Flat on 3 at 300.0 uL/sec\n",
            "\tAspirating 100.0 uL from A1 of NEST 12 Well Reservoir 15 mL on 2 at 150.0 uL/sec\n",
            "\tDispensing 100.0 uL into H5 of NEST 96 Well Plate 200 µL Flat on 3 at 300.0 uL/sec\n",
            "\tAspirating 100.0 uL from A1 of NEST 12 Well Reservoir 15 mL on 2 at 150.0 uL/sec\n",
            "\tDispensing 100.0 uL into A6 of NEST 96 Well Plate 200 µL Flat on 3 at 300.0 uL/sec\n",
            "\tAspirating 100.0 uL from A1 of NEST 12 Well Reservoir 15 mL on 2 at 150.0 uL/sec\n",
            "\tDispensing 100.0 uL into B6 of NEST 96 Well Plate 200 µL Flat on 3 at 300.0 uL/sec\n",
            "\tAspirating 100.0 uL from A1 of NEST 12 Well Reservoir 15 mL on 2 at 150.0 uL/sec\n",
            "\tDispensing 100.0 uL into C6 of NEST 96 Well Plate 200 µL Flat on 3 at 300.0 uL/sec\n",
            "\tAspirating 100.0 uL from A1 of NEST 12 Well Reservoir 15 mL on 2 at 150.0 uL/sec\n",
            "\tDispensing 100.0 uL into D6 of NEST 96 Well Plate 200 µL Flat on 3 at 300.0 uL/sec\n",
            "\tAspirating 100.0 uL from A1 of NEST 12 Well Reservoir 15 mL on 2 at 150.0 uL/sec\n",
            "\tDispensing 100.0 uL into E6 of NEST 96 Well Plate 200 µL Flat on 3 at 300.0 uL/sec\n",
            "\tAspirating 100.0 uL from A1 of NEST 12 Well Reservoir 15 mL on 2 at 150.0 uL/sec\n",
            "\tDispensing 100.0 uL into F6 of NEST 96 Well Plate 200 µL Flat on 3 at 300.0 uL/sec\n",
            "\tAspirating 100.0 uL from A1 of NEST 12 Well Reservoir 15 mL on 2 at 150.0 uL/sec\n",
            "\tDispensing 100.0 uL into G6 of NEST 96 Well Plate 200 µL Flat on 3 at 300.0 uL/sec\n",
            "\tAspirating 100.0 uL from A1 of NEST 12 Well Reservoir 15 mL on 2 at 150.0 uL/sec\n",
            "\tDispensing 100.0 uL into H6 of NEST 96 Well Plate 200 µL Flat on 3 at 300.0 uL/sec\n",
            "\tAspirating 100.0 uL from A1 of NEST 12 Well Reservoir 15 mL on 2 at 150.0 uL/sec\n",
            "\tDispensing 100.0 uL into A7 of NEST 96 Well Plate 200 µL Flat on 3 at 300.0 uL/sec\n",
            "\tAspirating 100.0 uL from A1 of NEST 12 Well Reservoir 15 mL on 2 at 150.0 uL/sec\n",
            "\tDispensing 100.0 uL into B7 of NEST 96 Well Plate 200 µL Flat on 3 at 300.0 uL/sec\n",
            "\tAspirating 100.0 uL from A1 of NEST 12 Well Reservoir 15 mL on 2 at 150.0 uL/sec\n",
            "\tDispensing 100.0 uL into C7 of NEST 96 Well Plate 200 µL Flat on 3 at 300.0 uL/sec\n",
            "\tAspirating 100.0 uL from A1 of NEST 12 Well Reservoir 15 mL on 2 at 150.0 uL/sec\n",
            "\tDispensing 100.0 uL into D7 of NEST 96 Well Plate 200 µL Flat on 3 at 300.0 uL/sec\n",
            "\tAspirating 100.0 uL from A1 of NEST 12 Well Reservoir 15 mL on 2 at 150.0 uL/sec\n",
            "\tDispensing 100.0 uL into E7 of NEST 96 Well Plate 200 µL Flat on 3 at 300.0 uL/sec\n",
            "\tAspirating 100.0 uL from A1 of NEST 12 Well Reservoir 15 mL on 2 at 150.0 uL/sec\n",
            "\tDispensing 100.0 uL into F7 of NEST 96 Well Plate 200 µL Flat on 3 at 300.0 uL/sec\n",
            "\tAspirating 100.0 uL from A1 of NEST 12 Well Reservoir 15 mL on 2 at 150.0 uL/sec\n",
            "\tDispensing 100.0 uL into G7 of NEST 96 Well Plate 200 µL Flat on 3 at 300.0 uL/sec\n",
            "\tAspirating 100.0 uL from A1 of NEST 12 Well Reservoir 15 mL on 2 at 150.0 uL/sec\n",
            "\tDispensing 100.0 uL into H7 of NEST 96 Well Plate 200 µL Flat on 3 at 300.0 uL/sec\n",
            "\tAspirating 100.0 uL from A1 of NEST 12 Well Reservoir 15 mL on 2 at 150.0 uL/sec\n",
            "\tDispensing 100.0 uL into A8 of NEST 96 Well Plate 200 µL Flat on 3 at 300.0 uL/sec\n",
            "\tAspirating 100.0 uL from A1 of NEST 12 Well Reservoir 15 mL on 2 at 150.0 uL/sec\n",
            "\tDispensing 100.0 uL into B8 of NEST 96 Well Plate 200 µL Flat on 3 at 300.0 uL/sec\n",
            "\tAspirating 100.0 uL from A1 of NEST 12 Well Reservoir 15 mL on 2 at 150.0 uL/sec\n",
            "\tDispensing 100.0 uL into C8 of NEST 96 Well Plate 200 µL Flat on 3 at 300.0 uL/sec\n",
            "\tAspirating 100.0 uL from A1 of NEST 12 Well Reservoir 15 mL on 2 at 150.0 uL/sec\n",
            "\tDispensing 100.0 uL into D8 of NEST 96 Well Plate 200 µL Flat on 3 at 300.0 uL/sec\n",
            "\tAspirating 100.0 uL from A1 of NEST 12 Well Reservoir 15 mL on 2 at 150.0 uL/sec\n",
            "\tDispensing 100.0 uL into E8 of NEST 96 Well Plate 200 µL Flat on 3 at 300.0 uL/sec\n",
            "\tAspirating 100.0 uL from A1 of NEST 12 Well Reservoir 15 mL on 2 at 150.0 uL/sec\n",
            "\tDispensing 100.0 uL into F8 of NEST 96 Well Plate 200 µL Flat on 3 at 300.0 uL/sec\n",
            "\tAspirating 100.0 uL from A1 of NEST 12 Well Reservoir 15 mL on 2 at 150.0 uL/sec\n",
            "\tDispensing 100.0 uL into G8 of NEST 96 Well Plate 200 µL Flat on 3 at 300.0 uL/sec\n",
            "\tAspirating 100.0 uL from A1 of NEST 12 Well Reservoir 15 mL on 2 at 150.0 uL/sec\n",
            "\tDispensing 100.0 uL into H8 of NEST 96 Well Plate 200 µL Flat on 3 at 300.0 uL/sec\n",
            "\tAspirating 100.0 uL from A1 of NEST 12 Well Reservoir 15 mL on 2 at 150.0 uL/sec\n",
            "\tDispensing 100.0 uL into A9 of NEST 96 Well Plate 200 µL Flat on 3 at 300.0 uL/sec\n",
            "\tAspirating 100.0 uL from A1 of NEST 12 Well Reservoir 15 mL on 2 at 150.0 uL/sec\n",
            "\tDispensing 100.0 uL into B9 of NEST 96 Well Plate 200 µL Flat on 3 at 300.0 uL/sec\n",
            "\tAspirating 100.0 uL from A1 of NEST 12 Well Reservoir 15 mL on 2 at 150.0 uL/sec\n",
            "\tDispensing 100.0 uL into C9 of NEST 96 Well Plate 200 µL Flat on 3 at 300.0 uL/sec\n",
            "\tAspirating 100.0 uL from A1 of NEST 12 Well Reservoir 15 mL on 2 at 150.0 uL/sec\n",
            "\tDispensing 100.0 uL into D9 of NEST 96 Well Plate 200 µL Flat on 3 at 300.0 uL/sec\n",
            "\tAspirating 100.0 uL from A1 of NEST 12 Well Reservoir 15 mL on 2 at 150.0 uL/sec\n",
            "\tDispensing 100.0 uL into E9 of NEST 96 Well Plate 200 µL Flat on 3 at 300.0 uL/sec\n",
            "\tAspirating 100.0 uL from A1 of NEST 12 Well Reservoir 15 mL on 2 at 150.0 uL/sec\n",
            "\tDispensing 100.0 uL into F9 of NEST 96 Well Plate 200 µL Flat on 3 at 300.0 uL/sec\n",
            "\tAspirating 100.0 uL from A1 of NEST 12 Well Reservoir 15 mL on 2 at 150.0 uL/sec\n",
            "\tDispensing 100.0 uL into G9 of NEST 96 Well Plate 200 µL Flat on 3 at 300.0 uL/sec\n",
            "\tAspirating 100.0 uL from A1 of NEST 12 Well Reservoir 15 mL on 2 at 150.0 uL/sec\n",
            "\tDispensing 100.0 uL into H9 of NEST 96 Well Plate 200 µL Flat on 3 at 300.0 uL/sec\n",
            "\tAspirating 100.0 uL from A1 of NEST 12 Well Reservoir 15 mL on 2 at 150.0 uL/sec\n",
            "\tDispensing 100.0 uL into A10 of NEST 96 Well Plate 200 µL Flat on 3 at 300.0 uL/sec\n",
            "\tAspirating 100.0 uL from A1 of NEST 12 Well Reservoir 15 mL on 2 at 150.0 uL/sec\n",
            "\tDispensing 100.0 uL into B10 of NEST 96 Well Plate 200 µL Flat on 3 at 300.0 uL/sec\n",
            "\tAspirating 100.0 uL from A1 of NEST 12 Well Reservoir 15 mL on 2 at 150.0 uL/sec\n",
            "\tDispensing 100.0 uL into C10 of NEST 96 Well Plate 200 µL Flat on 3 at 300.0 uL/sec\n",
            "\tAspirating 100.0 uL from A1 of NEST 12 Well Reservoir 15 mL on 2 at 150.0 uL/sec\n",
            "\tDispensing 100.0 uL into D10 of NEST 96 Well Plate 200 µL Flat on 3 at 300.0 uL/sec\n",
            "\tAspirating 100.0 uL from A1 of NEST 12 Well Reservoir 15 mL on 2 at 150.0 uL/sec\n",
            "\tDispensing 100.0 uL into E10 of NEST 96 Well Plate 200 µL Flat on 3 at 300.0 uL/sec\n",
            "\tAspirating 100.0 uL from A1 of NEST 12 Well Reservoir 15 mL on 2 at 150.0 uL/sec\n",
            "\tDispensing 100.0 uL into F10 of NEST 96 Well Plate 200 µL Flat on 3 at 300.0 uL/sec\n",
            "\tAspirating 100.0 uL from A1 of NEST 12 Well Reservoir 15 mL on 2 at 150.0 uL/sec\n",
            "\tDispensing 100.0 uL into G10 of NEST 96 Well Plate 200 µL Flat on 3 at 300.0 uL/sec\n",
            "\tAspirating 100.0 uL from A1 of NEST 12 Well Reservoir 15 mL on 2 at 150.0 uL/sec\n",
            "\tDispensing 100.0 uL into H10 of NEST 96 Well Plate 200 µL Flat on 3 at 300.0 uL/sec\n",
            "\tAspirating 100.0 uL from A1 of NEST 12 Well Reservoir 15 mL on 2 at 150.0 uL/sec\n",
            "\tDispensing 100.0 uL into A11 of NEST 96 Well Plate 200 µL Flat on 3 at 300.0 uL/sec\n",
            "\tAspirating 100.0 uL from A1 of NEST 12 Well Reservoir 15 mL on 2 at 150.0 uL/sec\n",
            "\tDispensing 100.0 uL into B11 of NEST 96 Well Plate 200 µL Flat on 3 at 300.0 uL/sec\n",
            "\tAspirating 100.0 uL from A1 of NEST 12 Well Reservoir 15 mL on 2 at 150.0 uL/sec\n",
            "\tDispensing 100.0 uL into C11 of NEST 96 Well Plate 200 µL Flat on 3 at 300.0 uL/sec\n",
            "\tAspirating 100.0 uL from A1 of NEST 12 Well Reservoir 15 mL on 2 at 150.0 uL/sec\n",
            "\tDispensing 100.0 uL into D11 of NEST 96 Well Plate 200 µL Flat on 3 at 300.0 uL/sec\n",
            "\tAspirating 100.0 uL from A1 of NEST 12 Well Reservoir 15 mL on 2 at 150.0 uL/sec\n",
            "\tDispensing 100.0 uL into E11 of NEST 96 Well Plate 200 µL Flat on 3 at 300.0 uL/sec\n",
            "\tAspirating 100.0 uL from A1 of NEST 12 Well Reservoir 15 mL on 2 at 150.0 uL/sec\n",
            "\tDispensing 100.0 uL into F11 of NEST 96 Well Plate 200 µL Flat on 3 at 300.0 uL/sec\n",
            "\tAspirating 100.0 uL from A1 of NEST 12 Well Reservoir 15 mL on 2 at 150.0 uL/sec\n",
            "\tDispensing 100.0 uL into G11 of NEST 96 Well Plate 200 µL Flat on 3 at 300.0 uL/sec\n",
            "\tAspirating 100.0 uL from A1 of NEST 12 Well Reservoir 15 mL on 2 at 150.0 uL/sec\n",
            "\tDispensing 100.0 uL into H11 of NEST 96 Well Plate 200 µL Flat on 3 at 300.0 uL/sec\n",
            "\tAspirating 100.0 uL from A1 of NEST 12 Well Reservoir 15 mL on 2 at 150.0 uL/sec\n",
            "\tDispensing 100.0 uL into A12 of NEST 96 Well Plate 200 µL Flat on 3 at 300.0 uL/sec\n",
            "\tAspirating 100.0 uL from A1 of NEST 12 Well Reservoir 15 mL on 2 at 150.0 uL/sec\n",
            "\tDispensing 100.0 uL into B12 of NEST 96 Well Plate 200 µL Flat on 3 at 300.0 uL/sec\n",
            "\tAspirating 100.0 uL from A1 of NEST 12 Well Reservoir 15 mL on 2 at 150.0 uL/sec\n",
            "\tDispensing 100.0 uL into C12 of NEST 96 Well Plate 200 µL Flat on 3 at 300.0 uL/sec\n",
            "\tAspirating 100.0 uL from A1 of NEST 12 Well Reservoir 15 mL on 2 at 150.0 uL/sec\n",
            "\tDispensing 100.0 uL into D12 of NEST 96 Well Plate 200 µL Flat on 3 at 300.0 uL/sec\n",
            "\tAspirating 100.0 uL from A1 of NEST 12 Well Reservoir 15 mL on 2 at 150.0 uL/sec\n",
            "\tDispensing 100.0 uL into E12 of NEST 96 Well Plate 200 µL Flat on 3 at 300.0 uL/sec\n",
            "\tAspirating 100.0 uL from A1 of NEST 12 Well Reservoir 15 mL on 2 at 150.0 uL/sec\n",
            "\tDispensing 100.0 uL into F12 of NEST 96 Well Plate 200 µL Flat on 3 at 300.0 uL/sec\n",
            "\tAspirating 100.0 uL from A1 of NEST 12 Well Reservoir 15 mL on 2 at 150.0 uL/sec\n",
            "\tDispensing 100.0 uL into G12 of NEST 96 Well Plate 200 µL Flat on 3 at 300.0 uL/sec\n",
            "\tAspirating 100.0 uL from A1 of NEST 12 Well Reservoir 15 mL on 2 at 150.0 uL/sec\n",
            "\tDispensing 100.0 uL into H12 of NEST 96 Well Plate 200 µL Flat on 3 at 300.0 uL/sec\n",
            "Transferring 100.0 from A2 of NEST 12 Well Reservoir 15 mL on 2 to A1 of NEST 96 Well Plate 200 µL Flat on 3\n",
            "\tAspirating 100.0 uL from A2 of NEST 12 Well Reservoir 15 mL on 2 at 150.0 uL/sec\n",
            "\tDispensing 100.0 uL into A1 of NEST 96 Well Plate 200 µL Flat on 3 at 300.0 uL/sec\n",
            "\tMixing 3 times with a volume of 50.0 ul\n",
            "\t\tAspirating 50.0 uL from A1 of NEST 96 Well Plate 200 µL Flat on 3 at 150.0 uL/sec\n",
            "\t\tDispensing 50.0 uL into A1 of NEST 96 Well Plate 200 µL Flat on 3 at 300.0 uL/sec\n",
            "\t\tAspirating 50.0 uL from A1 of NEST 96 Well Plate 200 µL Flat on 3 at 150.0 uL/sec\n",
            "\t\tDispensing 50.0 uL into A1 of NEST 96 Well Plate 200 µL Flat on 3 at 300.0 uL/sec\n",
            "\t\tAspirating 50.0 uL from A1 of NEST 96 Well Plate 200 µL Flat on 3 at 150.0 uL/sec\n",
            "\t\tDispensing 50.0 uL into A1 of NEST 96 Well Plate 200 µL Flat on 3 at 300.0 uL/sec\n",
            "Dropping tip into A1 of Opentrons Fixed Trash on 12\n",
            "\n"
          ]
        }
      ]
    },
    {
      "cell_type": "code",
      "source": [
        "print(f'***Original Instructions:***\\n{action_template.input}')\n",
        "print(f'***Final Proposed Code:***\\n\\n{code}')"
      ],
      "metadata": {
        "colab": {
          "base_uri": "https://localhost:8080/"
        },
        "id": "NojuEqy-P7jK",
        "outputId": "51aff9ed-63bc-4ce9-9254-15c99cba3883"
      },
      "execution_count": null,
      "outputs": [
        {
          "output_type": "stream",
          "name": "stdout",
          "text": [
            "***Original Instructions:***\n",
            "\n",
            "1.) Start by loading the tiprack onto slot 1 of the Opentrons robot. Use 'opentrons_96_tiprack_300ul' labware for the tip rack.\n",
            "2.) Load a reservoir of type 'nest_12_reservoir_15ml' in slot 2.\n",
            "3.) Load a plate of type 'nest_96_wellplate_200ul_flat' in slot 3.\n",
            "4.) Using the pipette, transfer 100 µL from location 'A1' in the loaded reservoir to wells of our loaded plate. \n",
            "5.) Using the pipette transfer 100 µL from location 'A2' in the loaded reservoir to the first well in the ith column. Mix with 3 repetitions of 50 µL.\n",
            "\n",
            "***Final Proposed Code:***\n",
            "\n",
            "from opentrons import protocol_api\n",
            "\n",
            "metadata={'apiLevel': '2.0'}\n",
            "\n",
            "def run(protocol: protocol_api.ProtocolContext):\n",
            "    tiprack = protocol.load_labware('opentrons_96_tiprack_300ul', 1)\n",
            "    reservoir = protocol.load_labware('nest_12_reservoir_15ml', 2)\n",
            "    plate = protocol.load_labware('nest_96_wellplate_200ul_flat', 3)\n",
            "\n",
            "    pipette = protocol.load_instrument('p300_single', 'right', tip_racks=[tiprack])\n",
            "\n",
            "    pipette.pick_up_tip()\n",
            "\n",
            "    pipette.transfer(100, reservoir.wells_by_name()['A1'], plate.wells(), new_tip='never')\n",
            "\n",
            "    pipette.transfer(100, reservoir.wells_by_name()['A2'], plate.columns_by_name()['1'][0], mix_after=(3, 50), new_tip='never')\n",
            "\n",
            "    pipette.drop_tip()\n"
          ]
        }
      ]
    },
    {
      "cell_type": "markdown",
      "source": [
        "# General example you can play with:\n",
        "\n",
        "**Note** We are hard coding this\n",
        "\n",
        "System template: general \"rules\" or role that the GPT model can play as\n",
        "\n",
        "few_shot_human: few shot example input for GPT model\n",
        "\n",
        "few_shot_ai: few shot example output for GPT model"
      ],
      "metadata": {
        "id": "VGa4fckfKaUY"
      }
    },
    {
      "cell_type": "code",
      "source": [
        "api_key = getpass()\n",
        "llm_2 = ChatOpenAI(model='gpt-4', openai_api_key=api_key)\n",
        "# if you want gemini-pro\n",
        "# llm_2 = GoogleGenerativeAI(model='gemini-pro',\n",
        "#                           google_api_key=api_key)\n"
      ],
      "metadata": {
        "colab": {
          "base_uri": "https://localhost:8080/"
        },
        "id": "8mT9n1kuhFfA",
        "outputId": "f44a943e-c244-495c-c443-9bfb07696219"
      },
      "execution_count": 81,
      "outputs": [
        {
          "name": "stdout",
          "output_type": "stream",
          "text": [
            "··········\n"
          ]
        }
      ]
    },
    {
      "cell_type": "code",
      "source": [
        "system_template='''\n",
        "You are a coding expert that can code really well in python. You will generate python code for me based on a set of directions specified by me.\n",
        "'''"
      ],
      "metadata": {
        "id": "jMEtfwdAKjF4"
      },
      "execution_count": 82,
      "outputs": []
    },
    {
      "cell_type": "code",
      "source": [
        "few_shot_human='''\n",
        "Create a function that adds two numbers\n",
        "'''\n",
        "\n",
        "few_shot_ai='''\n",
        "def add_two_numbers(a, b):\n",
        "  return a + b\n",
        "'''"
      ],
      "metadata": {
        "id": "oPxer89CLxmB"
      },
      "execution_count": 83,
      "outputs": []
    },
    {
      "cell_type": "code",
      "source": [
        "system_prompt = SystemMessagePromptTemplate.from_template(system_template)\n",
        "few_shot_prompt=(\n",
        "    HumanMessagePromptTemplate.from_template(few_shot_human)\n",
        "    + AIMessagePromptTemplate.from_template(few_shot_ai))\n",
        "history_prompt = MessagesPlaceholder(variable_name=\"chat_history\")\n",
        "memory_gen = ConversationBufferWindowMemory(k=10, memory_key = \"chat_history\", return_messages = True)\n",
        "input_prompt = HumanMessagePromptTemplate.from_template(\"{user_input}\")\n",
        "final_prompt = (\n",
        "              system_prompt\n",
        "              + few_shot_prompt\n",
        "              + history_prompt\n",
        "              + input_prompt\n",
        "              )\n",
        "chain = LLMChain(llm = llm_2,\n",
        "                      prompt = final_prompt,\n",
        "                      verbose = True,\n",
        "                      memory = memory_gen)"
      ],
      "metadata": {
        "id": "-XMp4PZmkmtS"
      },
      "execution_count": 84,
      "outputs": []
    },
    {
      "cell_type": "code",
      "source": [
        "code = chain.run({'user_input': \"write a function that prints hello world\"})"
      ],
      "metadata": {
        "id": "oD4KGbkWLxop",
        "colab": {
          "base_uri": "https://localhost:8080/"
        },
        "outputId": "9f5ea85c-94ad-4d19-dd7f-b16e9a98c63e"
      },
      "execution_count": 85,
      "outputs": [
        {
          "output_type": "stream",
          "name": "stdout",
          "text": [
            "\n",
            "\n",
            "\u001b[1m> Entering new LLMChain chain...\u001b[0m\n",
            "Prompt after formatting:\n",
            "\u001b[32;1m\u001b[1;3mSystem: \n",
            "You are a coding expert that can code really well in python. You will generate python code for me based on a set of directions specified by me.\n",
            "\n",
            "Human: \n",
            "Create a function that adds two numbers\n",
            "\n",
            "AI: \n",
            "def add_two_numbers(a, b): \n",
            "  return a + b\n",
            "\n",
            "Human: write a function that prints hello world\u001b[0m\n",
            "\n",
            "\u001b[1m> Finished chain.\u001b[0m\n"
          ]
        }
      ]
    },
    {
      "cell_type": "code",
      "source": [
        "print(code)"
      ],
      "metadata": {
        "colab": {
          "base_uri": "https://localhost:8080/"
        },
        "id": "IUlGic7fllUR",
        "outputId": "d78b60b9-496f-49e8-f742-2fdb6411067e"
      },
      "execution_count": 86,
      "outputs": [
        {
          "output_type": "stream",
          "name": "stdout",
          "text": [
            "Sure, here is a simple function in python that prints \"Hello World\".\n",
            "\n",
            "```python\n",
            "def print_hello_world(): \n",
            "    print(\"Hello World\")\n",
            "```\n"
          ]
        }
      ]
    }
  ]
}